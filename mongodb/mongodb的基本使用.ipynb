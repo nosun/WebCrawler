{
 "cells": [
  {
   "cell_type": "code",
   "execution_count": 2,
   "metadata": {
    "collapsed": true,
    "deletable": true,
    "editable": true
   },
   "outputs": [],
   "source": [
    "from pymongo import MongoClient"
   ]
  },
  {
   "cell_type": "markdown",
   "metadata": {
    "deletable": true,
    "editable": true
   },
   "source": [
    "## 连接数据库"
   ]
  },
  {
   "cell_type": "code",
   "execution_count": 3,
   "metadata": {
    "collapsed": true,
    "deletable": true,
    "editable": true
   },
   "outputs": [],
   "source": [
    "# 连接数据库，为空的话默认ip为localhost，端口为27017\n",
    "#以下三种结果都一样\n",
    "client = MongoClient()\n",
    "client = MongoClient('localhost',27017)\n",
    "#使用url 格式连接\n",
    "client = MongoClient('mongodb://localhost:27017/')"
   ]
  },
  {
   "cell_type": "code",
   "execution_count": 4,
   "metadata": {
    "collapsed": true,
    "deletable": true,
    "editable": true
   },
   "outputs": [],
   "source": [
    "# 连接指定的数据库\n",
    "db = client.test_database\n",
    "db = client['test-database']"
   ]
  },
  {
   "cell_type": "code",
   "execution_count": 5,
   "metadata": {
    "collapsed": true,
    "deletable": true,
    "editable": true
   },
   "outputs": [],
   "source": [
    "#连接指定的表\n",
    "collection = db.test_collection\n",
    "collection = db['test-collection']"
   ]
  },
  {
   "cell_type": "markdown",
   "metadata": {
    "deletable": true,
    "editable": true
   },
   "source": [
    "## 插入文档"
   ]
  },
  {
   "cell_type": "code",
   "execution_count": 6,
   "metadata": {
    "collapsed": true,
    "deletable": true,
    "editable": true
   },
   "outputs": [],
   "source": [
    "import datetime"
   ]
  },
  {
   "cell_type": "code",
   "execution_count": 7,
   "metadata": {
    "collapsed": true,
    "deletable": true,
    "editable": true
   },
   "outputs": [],
   "source": [
    "post = {\"author\": \"Mike\",\n",
    "         \"text\": \"My first blog post!\",\n",
    "         \"tags\": [\"mongodb\", \"python\", \"pymongo\"],\n",
    "         \"date\": datetime.datetime.utcnow()}"
   ]
  },
  {
   "cell_type": "code",
   "execution_count": 8,
   "metadata": {
    "collapsed": true,
    "deletable": true,
    "editable": true
   },
   "outputs": [],
   "source": [
    "# t连接test1 表\n",
    "test1 = db.test1"
   ]
  },
  {
   "cell_type": "code",
   "execution_count": 9,
   "metadata": {
    "collapsed": false,
    "deletable": true,
    "editable": true
   },
   "outputs": [
    {
     "data": {
      "text/plain": [
       "<pymongo.results.InsertOneResult at 0x5524990>"
      ]
     },
     "execution_count": 9,
     "metadata": {},
     "output_type": "execute_result"
    }
   ],
   "source": [
    "# 插入一条数据，\n",
    "test1.insert_one(post)"
   ]
  },
  {
   "cell_type": "code",
   "execution_count": 10,
   "metadata": {
    "collapsed": false,
    "deletable": true,
    "editable": true
   },
   "outputs": [
    {
     "data": {
      "text/plain": [
       "{u'_id': ObjectId('58a5841ee38a921b6c0490dd'),\n",
       " u'author': u'Mike',\n",
       " u'date': datetime.datetime(2017, 2, 16, 10, 51, 8, 638000),\n",
       " u'tags': [u'mongodb', u'python', u'pymongo'],\n",
       " u'text': u'My first blog post!'}"
      ]
     },
     "execution_count": 10,
     "metadata": {},
     "output_type": "execute_result"
    }
   ],
   "source": [
    "#查找一条\n",
    "test1.find_one()"
   ]
  },
  {
   "cell_type": "code",
   "execution_count": 11,
   "metadata": {
    "collapsed": false,
    "deletable": true,
    "editable": true
   },
   "outputs": [
    {
     "data": {
      "text/plain": [
       "{u'_id': ObjectId('58a5841ee38a921b6c0490dd'),\n",
       " u'author': u'Mike',\n",
       " u'date': datetime.datetime(2017, 2, 16, 10, 51, 8, 638000),\n",
       " u'tags': [u'mongodb', u'python', u'pymongo'],\n",
       " u'text': u'My first blog post!'}"
      ]
     },
     "execution_count": 11,
     "metadata": {},
     "output_type": "execute_result"
    }
   ],
   "source": [
    "#指定条件查询\n",
    "test1.find_one({'author':'Mike'})"
   ]
  },
  {
   "cell_type": "code",
   "execution_count": 12,
   "metadata": {
    "collapsed": true,
    "deletable": true,
    "editable": true
   },
   "outputs": [],
   "source": [
    "#指定条件查询,如果没有查询到，则返回空\n",
    "test1.find_one({'author':'mike'})"
   ]
  },
  {
   "cell_type": "code",
   "execution_count": 15,
   "metadata": {
    "collapsed": true,
    "deletable": true,
    "editable": true
   },
   "outputs": [],
   "source": [
    "#指定id 查询,\n",
    "# 这边copy的是上面查询到的id\n",
    "#但是发现结果为空\n",
    "test1.find_one({'_id':'58a5841ee38a921b6c0490dd'})"
   ]
  },
  {
   "cell_type": "code",
   "execution_count": 16,
   "metadata": {
    "collapsed": false,
    "deletable": true,
    "editable": true
   },
   "outputs": [
    {
     "data": {
      "text/plain": [
       "{u'_id': ObjectId('58a5841ee38a921b6c0490dd'),\n",
       " u'author': u'Mike',\n",
       " u'date': datetime.datetime(2017, 2, 16, 10, 51, 8, 638000),\n",
       " u'tags': [u'mongodb', u'python', u'pymongo'],\n",
       " u'text': u'My first blog post!'}"
      ]
     },
     "execution_count": 16,
     "metadata": {},
     "output_type": "execute_result"
    }
   ],
   "source": [
    "#需要这样做\n",
    "from bson.objectid import ObjectId\n",
    "test1.find_one({'_id':ObjectId('58a5841ee38a921b6c0490dd')})"
   ]
  },
  {
   "cell_type": "markdown",
   "metadata": {
    "deletable": true,
    "editable": true
   },
   "source": [
    "## 插入多条数据"
   ]
  },
  {
   "cell_type": "code",
   "execution_count": 17,
   "metadata": {
    "collapsed": false,
    "deletable": true,
    "editable": true
   },
   "outputs": [],
   "source": [
    "new_posts = [{\"author\": \"Mike\",\n",
    "               \"text\": \"Another post!\",\n",
    "               \"tags\": [\"bulk\", \"insert\"],\n",
    "               \"date\": datetime.datetime(2009, 11, 12, 11, 14)},\n",
    "              {\"author\": \"Eliot\",\n",
    "               \"title\": \"MongoDB is fun\",\n",
    "               \"text\": \"and pretty easy too!\",\n",
    "               \"date\": datetime.datetime(2009, 11, 10, 10, 45)}]"
   ]
  },
  {
   "cell_type": "code",
   "execution_count": 18,
   "metadata": {
    "collapsed": false,
    "deletable": true,
    "editable": true
   },
   "outputs": [
    {
     "data": {
      "text/plain": [
       "2"
      ]
     },
     "execution_count": 18,
     "metadata": {},
     "output_type": "execute_result"
    }
   ],
   "source": [
    "len(new_posts)"
   ]
  },
  {
   "cell_type": "code",
   "execution_count": 19,
   "metadata": {
    "collapsed": true,
    "deletable": true,
    "editable": true
   },
   "outputs": [],
   "source": [
    "# 插入多条\n",
    "result = test1.insert_many(new_posts)"
   ]
  },
  {
   "cell_type": "code",
   "execution_count": 20,
   "metadata": {
    "collapsed": false,
    "deletable": true,
    "editable": true
   },
   "outputs": [
    {
     "data": {
      "text/plain": [
       "[ObjectId('58a58440e38a921b6c0490de'), ObjectId('58a58440e38a921b6c0490df')]"
      ]
     },
     "execution_count": 20,
     "metadata": {},
     "output_type": "execute_result"
    }
   ],
   "source": [
    "# 返回插入的id\n",
    "result.inserted_ids"
   ]
  },
  {
   "cell_type": "code",
   "execution_count": 21,
   "metadata": {
    "collapsed": false,
    "deletable": true,
    "editable": true
   },
   "outputs": [
    {
     "name": "stdout",
     "output_type": "stream",
     "text": [
      "{u'date': datetime.datetime(2017, 2, 16, 10, 51, 8, 638000), u'text': u'My first blog post!', u'_id': ObjectId('58a5841ee38a921b6c0490dd'), u'author': u'Mike', u'tags': [u'mongodb', u'python', u'pymongo']}\n",
      "{u'date': datetime.datetime(2009, 11, 12, 11, 14), u'text': u'Another post!', u'_id': ObjectId('58a58440e38a921b6c0490de'), u'author': u'Mike', u'tags': [u'bulk', u'insert']}\n",
      "{u'date': datetime.datetime(2009, 11, 10, 10, 45), u'text': u'and pretty easy too!', u'_id': ObjectId('58a58440e38a921b6c0490df'), u'author': u'Eliot', u'title': u'MongoDB is fun'}\n"
     ]
    }
   ],
   "source": [
    "# 查询所有结果\n",
    "for i in test1.find():\n",
    "    print i"
   ]
  },
  {
   "cell_type": "code",
   "execution_count": 22,
   "metadata": {
    "collapsed": false,
    "deletable": true,
    "editable": true
   },
   "outputs": [
    {
     "name": "stdout",
     "output_type": "stream",
     "text": [
      "{u'date': datetime.datetime(2017, 2, 16, 10, 51, 8, 638000), u'text': u'My first blog post!', u'_id': ObjectId('58a5841ee38a921b6c0490dd'), u'author': u'Mike', u'tags': [u'mongodb', u'python', u'pymongo']}\n",
      "{u'date': datetime.datetime(2009, 11, 12, 11, 14), u'text': u'Another post!', u'_id': ObjectId('58a58440e38a921b6c0490de'), u'author': u'Mike', u'tags': [u'bulk', u'insert']}\n"
     ]
    }
   ],
   "source": [
    "# 查询指定结果\n",
    "for i in test1.find({'author':'Mike'}):\n",
    "    print i"
   ]
  },
  {
   "cell_type": "code",
   "execution_count": 23,
   "metadata": {
    "collapsed": false,
    "deletable": true,
    "editable": true
   },
   "outputs": [
    {
     "data": {
      "text/plain": [
       "3"
      ]
     },
     "execution_count": 23,
     "metadata": {},
     "output_type": "execute_result"
    }
   ],
   "source": [
    "# 总数\n",
    "test1.count()"
   ]
  },
  {
   "cell_type": "code",
   "execution_count": 24,
   "metadata": {
    "collapsed": false,
    "deletable": true,
    "editable": true
   },
   "outputs": [
    {
     "data": {
      "text/plain": [
       "2"
      ]
     },
     "execution_count": 24,
     "metadata": {},
     "output_type": "execute_result"
    }
   ],
   "source": [
    "# 指定查询的条数\n",
    "test1.find({'author':'Mike'}).count()"
   ]
  },
  {
   "cell_type": "code",
   "execution_count": 25,
   "metadata": {
    "collapsed": false,
    "deletable": true,
    "editable": true
   },
   "outputs": [
    {
     "data": {
      "text/plain": [
       "<pymongo.results.InsertManyResult at 0x5524f78>"
      ]
     },
     "execution_count": 25,
     "metadata": {},
     "output_type": "execute_result"
    }
   ],
   "source": [
    "# 连接一个新的表\n",
    "test2 = db.test2\n",
    "insert = [{'x':1},{'x':1},{'x':1}]\n",
    "# 插入三条数据\n",
    "test2.insert_many(insert)"
   ]
  },
  {
   "cell_type": "code",
   "execution_count": 26,
   "metadata": {
    "collapsed": false,
    "deletable": true,
    "editable": true
   },
   "outputs": [
    {
     "name": "stdout",
     "output_type": "stream",
     "text": [
      "{u'x': 1, u'_id': ObjectId('58a58454e38a921b6c0490e0')}\n",
      "{u'x': 1, u'_id': ObjectId('58a58454e38a921b6c0490e1')}\n",
      "{u'x': 1, u'_id': ObjectId('58a58454e38a921b6c0490e2')}\n"
     ]
    }
   ],
   "source": [
    "# 打印下插入的三条数据\n",
    "for i in test2.find():\n",
    "    print i"
   ]
  },
  {
   "cell_type": "markdown",
   "metadata": {
    "deletable": true,
    "editable": true
   },
   "source": [
    "## 插入或者更新"
   ]
  },
  {
   "cell_type": "code",
   "execution_count": 27,
   "metadata": {
    "collapsed": true,
    "deletable": true,
    "editable": true
   },
   "outputs": [],
   "source": [
    "#如果有找到x =1，则改成x=3。否则插入{'x':3},单条\n",
    "result = test2.update_one({'x':1},{'$set':{'x':3}},upsert=True)"
   ]
  },
  {
   "cell_type": "code",
   "execution_count": 28,
   "metadata": {
    "collapsed": false,
    "deletable": true,
    "editable": true
   },
   "outputs": [
    {
     "name": "stdout",
     "output_type": "stream",
     "text": [
      "{u'x': 3, u'_id': ObjectId('58a58454e38a921b6c0490e0')}\n",
      "{u'x': 1, u'_id': ObjectId('58a58454e38a921b6c0490e1')}\n",
      "{u'x': 1, u'_id': ObjectId('58a58454e38a921b6c0490e2')}\n"
     ]
    }
   ],
   "source": [
    "# 打印下插入的三条数据\n",
    "# 发现已经把其中的一条改为了x=3\n",
    "for i in test2.find():\n",
    "    print i"
   ]
  },
  {
   "cell_type": "code",
   "execution_count": 29,
   "metadata": {
    "collapsed": false,
    "deletable": true,
    "editable": true
   },
   "outputs": [],
   "source": [
    "#如果有找到x =4，则改成x=333。否则插入{'x':333},单条\n",
    "# 这边我们知道数据库内是没有x=4的\n",
    "result = test2.update_one({'x':4},{'$set':{'x':333}},upsert=True)"
   ]
  },
  {
   "cell_type": "code",
   "execution_count": 30,
   "metadata": {
    "collapsed": false,
    "deletable": true,
    "editable": true
   },
   "outputs": [
    {
     "name": "stdout",
     "output_type": "stream",
     "text": [
      "{u'x': 3, u'_id': ObjectId('58a58454e38a921b6c0490e0')}\n",
      "{u'x': 1, u'_id': ObjectId('58a58454e38a921b6c0490e1')}\n",
      "{u'x': 1, u'_id': ObjectId('58a58454e38a921b6c0490e2')}\n",
      "{u'x': 333, u'_id': ObjectId('58a58477dea1b7eb2f881b9b')}\n"
     ]
    }
   ],
   "source": [
    "# 打印下插入的三条数据\n",
    "# 发现新增了一条 {'x':333}\n",
    "for i in test2.find():\n",
    "    print i"
   ]
  },
  {
   "cell_type": "markdown",
   "metadata": {
    "deletable": true,
    "editable": true
   },
   "source": [
    "### 多条 update_many"
   ]
  },
  {
   "cell_type": "code",
   "execution_count": 31,
   "metadata": {
    "collapsed": false,
    "deletable": true,
    "editable": true
   },
   "outputs": [],
   "source": [
    "#如果有找到x =1，则改成x='mangmang'。否则插入{'x':mangmang},多条\n",
    "result = test2.update_many({'x':1},{'$set':{'x':'mangmang'}},upsert=True)"
   ]
  },
  {
   "cell_type": "code",
   "execution_count": 32,
   "metadata": {
    "collapsed": false,
    "deletable": true,
    "editable": true
   },
   "outputs": [
    {
     "name": "stdout",
     "output_type": "stream",
     "text": [
      "{u'x': 3, u'_id': ObjectId('58a58454e38a921b6c0490e0')}\n",
      "{u'x': u'mangmang', u'_id': ObjectId('58a58454e38a921b6c0490e1')}\n",
      "{u'x': u'mangmang', u'_id': ObjectId('58a58454e38a921b6c0490e2')}\n",
      "{u'x': 333, u'_id': ObjectId('58a58477dea1b7eb2f881b9b')}\n"
     ]
    }
   ],
   "source": [
    "# 打印下插入的三条数据\n",
    "# 发现已经把所有的x=1 改成了 x=mangmang\n",
    "for i in test2.find():\n",
    "    print i"
   ]
  },
  {
   "cell_type": "code",
   "execution_count": 33,
   "metadata": {
    "collapsed": true,
    "deletable": true,
    "editable": true
   },
   "outputs": [],
   "source": [
    "#如果有找到x =4，则改成{'x':1,'y':2}。否则插入{'x':1,'y':2},多条\n",
    "# 这边我们知道数据库内是没有x=4的\n",
    "result = test2.update_one({'x':4},{'$set':{'x':1,'y':2}},upsert=True)"
   ]
  },
  {
   "cell_type": "code",
   "execution_count": 34,
   "metadata": {
    "collapsed": false,
    "deletable": true,
    "editable": true
   },
   "outputs": [
    {
     "name": "stdout",
     "output_type": "stream",
     "text": [
      "{u'x': 3, u'_id': ObjectId('58a58454e38a921b6c0490e0')}\n",
      "{u'x': u'mangmang', u'_id': ObjectId('58a58454e38a921b6c0490e1')}\n",
      "{u'x': u'mangmang', u'_id': ObjectId('58a58454e38a921b6c0490e2')}\n",
      "{u'x': 333, u'_id': ObjectId('58a58477dea1b7eb2f881b9b')}\n",
      "{u'y': 2, u'x': 1, u'_id': ObjectId('58a58499dea1b7eb2f881b9c')}\n"
     ]
    }
   ],
   "source": [
    "# 打印下插入的三条数据\n",
    "# 发现已经新增了一条{u'y': 2, u'x': 1}\n",
    "for i in test2.find():\n",
    "    print i"
   ]
  },
  {
   "cell_type": "markdown",
   "metadata": {
    "deletable": true,
    "editable": true
   },
   "source": [
    "## 总结\n",
    "### 爬虫经常用到的三条插入语句\n",
    "下面的**test2为表名**,  \n",
    "1. ```test2.insert_one(xx)``` 插入一条数据\n",
    "2. ```test2.insert_many(xx)``` 插入list\n",
    "3. **最常用>>>**```test2.update_one({'x':1},{'$set':{'x':3}},upsert=True)``` \n",
    " - 第三条一般会在防止重复的数据被存到数据库内 要用到"
   ]
  },
  {
   "cell_type": "markdown",
   "metadata": {
    "deletable": true,
    "editable": true
   },
   "source": [
    "## 参考\n",
    "- [mongodb中文文档](http://www.runoob.com/mongodb/mongodb-tutorial.html)\n",
    "- [mongodb官方文档](https://api.mongodb.com/python/current/api/pymongo/collection.html#pymongo.collection.Collection.find_one_and_update)"
   ]
  },
  {
   "cell_type": "code",
   "execution_count": null,
   "metadata": {
    "collapsed": true,
    "deletable": true,
    "editable": true
   },
   "outputs": [],
   "source": []
  }
 ],
 "metadata": {
  "kernelspec": {
   "display_name": "Python 2",
   "language": "python",
   "name": "python2"
  },
  "language_info": {
   "codemirror_mode": {
    "name": "ipython",
    "version": 2
   },
   "file_extension": ".py",
   "mimetype": "text/x-python",
   "name": "python",
   "nbconvert_exporter": "python",
   "pygments_lexer": "ipython2",
   "version": "2.7.13"
  }
 },
 "nbformat": 4,
 "nbformat_minor": 2
}
